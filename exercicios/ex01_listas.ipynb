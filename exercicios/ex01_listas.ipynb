{
  "cells": [
    {
      "cell_type": "markdown",
      "metadata": {
        "colab_type": "text",
        "id": "view-in-github"
      },
      "source": [
        "<a href=\"https://colab.research.google.com/github/daniel-arnobio/int-ciencia-de-dados/blob/main/ex01_listas_Daniel.ipynb\" target=\"_parent\"><img src=\"https://colab.research.google.com/assets/colab-badge.svg\" alt=\"Open In Colab\"/></a>"
      ]
    },
    {
      "cell_type": "markdown",
      "metadata": {
        "id": "4-cZTStgw2mF"
      },
      "source": [
        "# Introdução à Ciência de Dados - UFPB\n",
        "Professor: Yuri Malheiros\n",
        "\n",
        "\n",
        "Aluno: Daniel Arnóbio Dantas da Silva\n",
        "\n",
        "## Python - Listas - Exercício"
      ]
    },
    {
      "cell_type": "markdown",
      "metadata": {
        "id": "r0pltQDGw2mQ"
      },
      "source": [
        "As funções abaixo possuem comentários de doctest que servem para testá-las. Por favor, não apague os comentários após a definição das funções.\n",
        "\n",
        "Você pode conferir se a sua implementação está correta executando a última célula desse notebook."
      ]
    },
    {
      "cell_type": "markdown",
      "metadata": {
        "id": "NArU441Qw2mS"
      },
      "source": [
        "A função `clear` recebe uma lista e uma função como parâmetros. Ela deve retornar uma nova lista apenas com os elementos da lista que, ao aplicar a função passada como parâmetro, o retorno dessa função seja True."
      ]
    },
    {
      "cell_type": "markdown",
      "metadata": {
        "id": "JT9dOQaZ2iYm"
      },
      "source": [
        "Definindo as funções que serão passadas como parâmetro"
      ]
    },
    {
      "cell_type": "code",
      "execution_count": 2,
      "metadata": {
        "id": "mSpPLGp91u68"
      },
      "outputs": [],
      "source": [
        "def retornaPares(lista):\n",
        "  pares = []\n",
        "  for i in lista:\n",
        "    if i%2 == 0:\n",
        "      pares.append(i)\n",
        "  return pares"
      ]
    },
    {
      "cell_type": "code",
      "execution_count": 6,
      "metadata": {
        "id": "4weXWN-21DB7"
      },
      "outputs": [],
      "source": [
        "def retornaDobro(lista):\n",
        "  dobro = []\n",
        "  for i in lista:\n",
        "    dobro.append(i*2)\n",
        "  return dobro"
      ]
    },
    {
      "cell_type": "code",
      "execution_count": 8,
      "metadata": {
        "id": "v5u_lATF1Rtk"
      },
      "outputs": [],
      "source": [
        "def retornaMenosUm(lista):\n",
        "  new = []\n",
        "  for i in lista:\n",
        "    new.append(i-1)\n",
        "  return new"
      ]
    },
    {
      "cell_type": "code",
      "execution_count": 1,
      "metadata": {
        "id": "GCuWefbjw2mU"
      },
      "outputs": [],
      "source": [
        "def clear(a_list, test_func):\n",
        "  \"\"\"\n",
        "  Test:\n",
        "  >>> clear([1,2,3,4,5,6,7,8], lambda x: x % 2 == 0)\n",
        "  [2, 4, 6, 8]\n",
        "\n",
        "  >>> clear(['maria', 'joao', 'ana', 'lucas'], lambda x: len(x) == 5)\n",
        "  ['maria', 'lucas']\n",
        "  \"\"\"\n",
        "  # ADICIONAR CÓDIGO AQUI\n",
        "  return test_func(a_list)"
      ]
    },
    {
      "cell_type": "code",
      "execution_count": 4,
      "metadata": {
        "colab": {
          "base_uri": "https://localhost:8080/"
        },
        "id": "hOVid3EmqzRU",
        "outputId": "59da1ff8-cd20-4800-cfe1-34a6bf0c36ac"
      },
      "outputs": [
        {
          "data": {
            "text/plain": [
              "[10, 20, 2, 4, 6, 8]"
            ]
          },
          "execution_count": 4,
          "metadata": {},
          "output_type": "execute_result"
        }
      ],
      "source": [
        "clear([10,20,2,3,4,5,6,7,8], retornaPares)"
      ]
    },
    {
      "cell_type": "markdown",
      "metadata": {
        "id": "PKjdPaA6w2mZ"
      },
      "source": [
        "A função `pipeline` recebe uma lista e uma quantidade variável de funções. Uma nova lista deve ser criada aplicando cada função a cada elemento da lista. Essa nova lista deve ser retornada."
      ]
    },
    {
      "cell_type": "code",
      "execution_count": 11,
      "metadata": {
        "id": "hHDZa1FAw2ma"
      },
      "outputs": [],
      "source": [
        "def pipeline(lista, *funcs):\n",
        "    \"\"\"\n",
        "    Test:\n",
        "    >>> pipeline([1,2,3,4,5], lambda x: x * 2)\n",
        "    [2, 4, 6, 8, 10]\n",
        "\n",
        "    >>> pipeline([1,2,3,4,5], lambda x: x * 2, lambda x: x-1)\n",
        "    [1, 3, 5, 7, 9]\n",
        "    \"\"\"\n",
        "\n",
        "    # ADICIONAR CÓDIGO AQUI\n",
        "    l1 = retornaDobro(lista)\n",
        "    return retornaMenosUm(l1)"
      ]
    },
    {
      "cell_type": "code",
      "execution_count": 12,
      "metadata": {
        "colab": {
          "base_uri": "https://localhost:8080/"
        },
        "id": "ssvfllRb2XyR",
        "outputId": "0b834082-d02d-457c-9385-f89d44220786"
      },
      "outputs": [
        {
          "data": {
            "text/plain": [
              "[1, 3, 5, 7, 9]"
            ]
          },
          "execution_count": 12,
          "metadata": {},
          "output_type": "execute_result"
        }
      ],
      "source": [
        "pipeline([1, 2, 3, 4, 5], retornaDobro, retornaMenosUm)"
      ]
    },
    {
      "cell_type": "code",
      "execution_count": 5,
      "metadata": {
        "colab": {
          "base_uri": "https://localhost:8080/"
        },
        "id": "mgl3zOrjw2mc",
        "outputId": "d3992787-5b6a-40be-be50-e2bdc011d1d5"
      },
      "outputs": [
        {
          "name": "stderr",
          "output_type": "stream",
          "text": [
            "\n",
            "PYDEV DEBUGGER WARNING:\n",
            "sys.settrace() should not be used when the debugger is being used.\n",
            "This may cause the debugger to stop working correctly.\n",
            "If this is needed, please check: \n",
            "http://pydev.blogspot.com/2007/06/why-cant-pydev-debugger-work-with.html\n",
            "to see how to restore the debug tracing back correctly.\n",
            "Call Location:\n",
            "  File \"/usr/lib/python3.7/doctest.py\", line 1487, in run\n",
            "    sys.settrace(save_trace)\n",
            "\n"
          ]
        },
        {
          "name": "stdout",
          "output_type": "stream",
          "text": [
            "Trying:\n",
            "    clear([1,2,3,4,5,6,7,8], lambda x: x % 2 == 0)\n",
            "Expecting:\n",
            "    [2, 4, 6, 8]\n",
            "**********************************************************************\n",
            "File \"__main__\", line 4, in __main__.clear\n",
            "Failed example:\n",
            "    clear([1,2,3,4,5,6,7,8], lambda x: x % 2 == 0)\n",
            "Exception raised:\n",
            "    Traceback (most recent call last):\n",
            "      File \"/usr/lib/python3.7/doctest.py\", line 1337, in __run\n",
            "        compileflags, 1), test.globs)\n",
            "      File \"<doctest __main__.clear[0]>\", line 1, in <module>\n",
            "        clear([1,2,3,4,5,6,7,8], lambda x: x % 2 == 0)\n",
            "      File \"<ipython-input-1-a61f398a0407>\", line 11, in clear\n",
            "        return test_func(a_list)\n",
            "      File \"<doctest __main__.clear[0]>\", line 1, in <lambda>\n",
            "        clear([1,2,3,4,5,6,7,8], lambda x: x % 2 == 0)\n",
            "    TypeError: unsupported operand type(s) for %: 'list' and 'int'\n",
            "Trying:\n",
            "    clear(['maria', 'joao', 'ana', 'lucas'], lambda x: len(x) == 5)\n",
            "Expecting:\n",
            "    ['maria', 'lucas']\n",
            "**********************************************************************\n",
            "File \"__main__\", line 7, in __main__.clear\n",
            "Failed example:\n",
            "    clear(['maria', 'joao', 'ana', 'lucas'], lambda x: len(x) == 5)\n",
            "Expected:\n",
            "    ['maria', 'lucas']\n",
            "Got:\n",
            "    False\n",
            "2 items had no tests:\n",
            "    __main__\n",
            "    __main__.retornaPares\n",
            "**********************************************************************\n",
            "1 items had failures:\n",
            "   2 of   2 in __main__.clear\n",
            "2 tests in 3 items.\n",
            "0 passed and 2 failed.\n",
            "***Test Failed*** 2 failures.\n"
          ]
        },
        {
          "data": {
            "text/plain": [
              "TestResults(failed=2, attempted=2)"
            ]
          },
          "execution_count": 5,
          "metadata": {},
          "output_type": "execute_result"
        }
      ],
      "source": [
        "import doctest\n",
        "\n",
        "doctest.testmod(verbose=True)"
      ]
    },
    {
      "cell_type": "code",
      "execution_count": null,
      "metadata": {
        "id": "uNhkMFc7ryGI"
      },
      "outputs": [],
      "source": []
    }
  ],
  "metadata": {
    "colab": {
      "include_colab_link": true,
      "provenance": []
    },
    "kernelspec": {
      "display_name": "Python 3.9.12 ('base')",
      "language": "python",
      "name": "python3"
    },
    "language_info": {
      "codemirror_mode": {
        "name": "ipython",
        "version": 3
      },
      "file_extension": ".py",
      "mimetype": "text/x-python",
      "name": "python",
      "nbconvert_exporter": "python",
      "pygments_lexer": "ipython3",
      "version": "3.9.12"
    },
    "vscode": {
      "interpreter": {
        "hash": "3a0de9df006df342b5e4296aedaeaf87f8585c794651fec65fd5881a82402807"
      }
    }
  },
  "nbformat": 4,
  "nbformat_minor": 0
}
