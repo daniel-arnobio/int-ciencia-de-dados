{
  "cells": [
    {
      "cell_type": "markdown",
      "metadata": {
        "id": "sfljPJL6bbkE"
      },
      "source": [
        "# Introdução à Ciência de Dados - UFPB\n",
        "* Professor: Yuri Malheiros\n",
        "* Aluno: Daniel Arnóbio Dantas da Silva\n",
        "* Matrícula: 20200141276\n",
        "\n",
        "\n",
        "## Pandas"
      ]
    },
    {
      "cell_type": "markdown",
      "metadata": {
        "id": "8w13DlWjbbkI"
      },
      "source": [
        "A partir do dataset `movies.csv` utilize o Pandas para responder as perguntas:"
      ]
    },
    {
      "cell_type": "code",
      "execution_count": 22,
      "metadata": {},
      "outputs": [],
      "source": [
        "import pandas as pd\n",
        "df = pd.read_csv('https://raw.githubusercontent.com/yurimalheiros/icd/master/datasets/movies.csv')"
      ]
    },
    {
      "cell_type": "markdown",
      "metadata": {
        "id": "Ri7sqYThbbkI"
      },
      "source": [
        "### Qual o gênero de filme com maior nota do IMDB? E o menor?"
      ]
    },
    {
      "cell_type": "code",
      "execution_count": 23,
      "metadata": {
        "id": "qkT2xyJ7bbkJ"
      },
      "outputs": [
        {
          "data": {
            "text/html": [
              "<div>\n",
              "<style scoped>\n",
              "    .dataframe tbody tr th:only-of-type {\n",
              "        vertical-align: middle;\n",
              "    }\n",
              "\n",
              "    .dataframe tbody tr th {\n",
              "        vertical-align: top;\n",
              "    }\n",
              "\n",
              "    .dataframe thead th {\n",
              "        text-align: right;\n",
              "    }\n",
              "</style>\n",
              "<table border=\"1\" class=\"dataframe\">\n",
              "  <thead>\n",
              "    <tr style=\"text-align: right;\">\n",
              "      <th></th>\n",
              "      <th>Title</th>\n",
              "      <th>US Gross</th>\n",
              "      <th>Worldwide Gross</th>\n",
              "      <th>US DVD Sales</th>\n",
              "      <th>Production Budget</th>\n",
              "      <th>Release Date</th>\n",
              "      <th>MPAA Rating</th>\n",
              "      <th>Running Time (min)</th>\n",
              "      <th>Distributor</th>\n",
              "      <th>Source</th>\n",
              "      <th>Major Genre</th>\n",
              "      <th>Creative Type</th>\n",
              "      <th>Director</th>\n",
              "      <th>Rotten Tomatoes Rating</th>\n",
              "      <th>IMDB Rating</th>\n",
              "      <th>IMDB Votes</th>\n",
              "    </tr>\n",
              "  </thead>\n",
              "  <tbody>\n",
              "    <tr>\n",
              "      <th>841</th>\n",
              "      <td>The Shawshank Redemption</td>\n",
              "      <td>28241469.0</td>\n",
              "      <td>28241469.0</td>\n",
              "      <td>NaN</td>\n",
              "      <td>25000000.0</td>\n",
              "      <td>23-Sep-94</td>\n",
              "      <td>R</td>\n",
              "      <td>NaN</td>\n",
              "      <td>Sony Pictures</td>\n",
              "      <td>Based on Book/Short Story</td>\n",
              "      <td>Drama</td>\n",
              "      <td>Historical Fiction</td>\n",
              "      <td>Frank Darabont</td>\n",
              "      <td>88.0</td>\n",
              "      <td>9.2</td>\n",
              "      <td>519541.0</td>\n",
              "    </tr>\n",
              "  </tbody>\n",
              "</table>\n",
              "</div>"
            ],
            "text/plain": [
              "                        Title    US Gross  Worldwide Gross  US DVD Sales  \\\n",
              "841  The Shawshank Redemption  28241469.0       28241469.0           NaN   \n",
              "\n",
              "     Production Budget Release Date MPAA Rating  Running Time (min)  \\\n",
              "841         25000000.0    23-Sep-94           R                 NaN   \n",
              "\n",
              "       Distributor                     Source Major Genre       Creative Type  \\\n",
              "841  Sony Pictures  Based on Book/Short Story       Drama  Historical Fiction   \n",
              "\n",
              "           Director  Rotten Tomatoes Rating  IMDB Rating  IMDB Votes  \n",
              "841  Frank Darabont                    88.0          9.2    519541.0  "
            ]
          },
          "execution_count": 23,
          "metadata": {},
          "output_type": "execute_result"
        }
      ],
      "source": [
        "df.sort_values('IMDB Rating', ascending= False).head(1)"
      ]
    },
    {
      "cell_type": "code",
      "execution_count": 24,
      "metadata": {},
      "outputs": [
        {
          "data": {
            "text/html": [
              "<div>\n",
              "<style scoped>\n",
              "    .dataframe tbody tr th:only-of-type {\n",
              "        vertical-align: middle;\n",
              "    }\n",
              "\n",
              "    .dataframe tbody tr th {\n",
              "        vertical-align: top;\n",
              "    }\n",
              "\n",
              "    .dataframe thead th {\n",
              "        text-align: right;\n",
              "    }\n",
              "</style>\n",
              "<table border=\"1\" class=\"dataframe\">\n",
              "  <thead>\n",
              "    <tr style=\"text-align: right;\">\n",
              "      <th></th>\n",
              "      <th>Title</th>\n",
              "      <th>US Gross</th>\n",
              "      <th>Worldwide Gross</th>\n",
              "      <th>US DVD Sales</th>\n",
              "      <th>Production Budget</th>\n",
              "      <th>Release Date</th>\n",
              "      <th>MPAA Rating</th>\n",
              "      <th>Running Time (min)</th>\n",
              "      <th>Distributor</th>\n",
              "      <th>Source</th>\n",
              "      <th>Major Genre</th>\n",
              "      <th>Creative Type</th>\n",
              "      <th>Director</th>\n",
              "      <th>Rotten Tomatoes Rating</th>\n",
              "      <th>IMDB Rating</th>\n",
              "      <th>IMDB Votes</th>\n",
              "    </tr>\n",
              "  </thead>\n",
              "  <tbody>\n",
              "    <tr>\n",
              "      <th>1247</th>\n",
              "      <td>Super Babies: Baby Geniuses 2</td>\n",
              "      <td>9109322.0</td>\n",
              "      <td>9109322.0</td>\n",
              "      <td>NaN</td>\n",
              "      <td>20000000.0</td>\n",
              "      <td>27-Aug-04</td>\n",
              "      <td>PG</td>\n",
              "      <td>NaN</td>\n",
              "      <td>Sony Pictures</td>\n",
              "      <td>Original Screenplay</td>\n",
              "      <td>Comedy</td>\n",
              "      <td>Kids Fiction</td>\n",
              "      <td>NaN</td>\n",
              "      <td>NaN</td>\n",
              "      <td>1.4</td>\n",
              "      <td>10886.0</td>\n",
              "    </tr>\n",
              "  </tbody>\n",
              "</table>\n",
              "</div>"
            ],
            "text/plain": [
              "                              Title   US Gross  Worldwide Gross  US DVD Sales  \\\n",
              "1247  Super Babies: Baby Geniuses 2  9109322.0        9109322.0           NaN   \n",
              "\n",
              "      Production Budget Release Date MPAA Rating  Running Time (min)  \\\n",
              "1247         20000000.0    27-Aug-04          PG                 NaN   \n",
              "\n",
              "        Distributor               Source Major Genre Creative Type Director  \\\n",
              "1247  Sony Pictures  Original Screenplay      Comedy  Kids Fiction      NaN   \n",
              "\n",
              "      Rotten Tomatoes Rating  IMDB Rating  IMDB Votes  \n",
              "1247                     NaN          1.4     10886.0  "
            ]
          },
          "execution_count": 24,
          "metadata": {},
          "output_type": "execute_result"
        }
      ],
      "source": [
        "df.sort_values('IMDB Rating').head(1)"
      ]
    },
    {
      "cell_type": "markdown",
      "metadata": {
        "id": "AisUHUsvbbkK"
      },
      "source": [
        "### Qual o diretor dirigiu mais filmes de drama? E de comédia?"
      ]
    },
    {
      "cell_type": "code",
      "execution_count": 25,
      "metadata": {
        "id": "GuzB973GbbkK"
      },
      "outputs": [],
      "source": [
        "df_drama = df[df['Major Genre']== 'Drama']"
      ]
    },
    {
      "cell_type": "code",
      "execution_count": 26,
      "metadata": {},
      "outputs": [
        {
          "data": {
            "text/plain": [
              "Director\n",
              "Martin Scorsese    11\n",
              "dtype: int64"
            ]
          },
          "execution_count": 26,
          "metadata": {},
          "output_type": "execute_result"
        }
      ],
      "source": [
        "df_drama.value_counts('Director').head(1)"
      ]
    },
    {
      "cell_type": "code",
      "execution_count": 27,
      "metadata": {},
      "outputs": [],
      "source": [
        "df_comedia = df[df['Major Genre']== 'Comedy']"
      ]
    },
    {
      "cell_type": "code",
      "execution_count": 28,
      "metadata": {},
      "outputs": [
        {
          "data": {
            "text/plain": [
              "Director\n",
              "Woody Allen    10\n",
              "dtype: int64"
            ]
          },
          "execution_count": 28,
          "metadata": {},
          "output_type": "execute_result"
        }
      ],
      "source": [
        "df_comedia.value_counts('Director').head(1)"
      ]
    },
    {
      "cell_type": "markdown",
      "metadata": {
        "id": "SoQtV0cHbbkL"
      },
      "source": [
        "### Quais filmes tiverem os maiores arrecadações (Gross) em relação ao orçamento de produção (Budget)?"
      ]
    },
    {
      "cell_type": "code",
      "execution_count": 29,
      "metadata": {
        "id": "airbzUAabbkL"
      },
      "outputs": [],
      "source": [
        "df_arrec = df[['Title', 'Worldwide Gross', 'Production Budget']]"
      ]
    },
    {
      "cell_type": "code",
      "execution_count": 30,
      "metadata": {},
      "outputs": [
        {
          "data": {
            "text/html": [
              "<div>\n",
              "<style scoped>\n",
              "    .dataframe tbody tr th:only-of-type {\n",
              "        vertical-align: middle;\n",
              "    }\n",
              "\n",
              "    .dataframe tbody tr th {\n",
              "        vertical-align: top;\n",
              "    }\n",
              "\n",
              "    .dataframe thead th {\n",
              "        text-align: right;\n",
              "    }\n",
              "</style>\n",
              "<table border=\"1\" class=\"dataframe\">\n",
              "  <thead>\n",
              "    <tr style=\"text-align: right;\">\n",
              "      <th></th>\n",
              "      <th>Title</th>\n",
              "      <th>Worldwide Gross</th>\n",
              "      <th>Production Budget</th>\n",
              "    </tr>\n",
              "  </thead>\n",
              "  <tbody>\n",
              "    <tr>\n",
              "      <th>1234</th>\n",
              "      <td>Avatar</td>\n",
              "      <td>2.767891e+09</td>\n",
              "      <td>237000000.0</td>\n",
              "    </tr>\n",
              "    <tr>\n",
              "      <th>2970</th>\n",
              "      <td>Titanic</td>\n",
              "      <td>1.842880e+09</td>\n",
              "      <td>200000000.0</td>\n",
              "    </tr>\n",
              "    <tr>\n",
              "      <th>2202</th>\n",
              "      <td>The Lord of the Rings: The Return of the King</td>\n",
              "      <td>1.133027e+09</td>\n",
              "      <td>94000000.0</td>\n",
              "    </tr>\n",
              "    <tr>\n",
              "      <th>2507</th>\n",
              "      <td>Pirates of the Caribbean: Dead Man's Chest</td>\n",
              "      <td>1.065660e+09</td>\n",
              "      <td>225000000.0</td>\n",
              "    </tr>\n",
              "    <tr>\n",
              "      <th>2987</th>\n",
              "      <td>Toy Story 3</td>\n",
              "      <td>1.046341e+09</td>\n",
              "      <td>200000000.0</td>\n",
              "    </tr>\n",
              "    <tr>\n",
              "      <th>...</th>\n",
              "      <td>...</td>\n",
              "      <td>...</td>\n",
              "      <td>...</td>\n",
              "    </tr>\n",
              "    <tr>\n",
              "      <th>266</th>\n",
              "      <td>Death Race 2000</td>\n",
              "      <td>NaN</td>\n",
              "      <td>300000.0</td>\n",
              "    </tr>\n",
              "    <tr>\n",
              "      <th>404</th>\n",
              "      <td>Hell's Angels</td>\n",
              "      <td>NaN</td>\n",
              "      <td>4000000.0</td>\n",
              "    </tr>\n",
              "    <tr>\n",
              "      <th>467</th>\n",
              "      <td>Intolerance</td>\n",
              "      <td>NaN</td>\n",
              "      <td>385907.0</td>\n",
              "    </tr>\n",
              "    <tr>\n",
              "      <th>1025</th>\n",
              "      <td>Waterloo</td>\n",
              "      <td>NaN</td>\n",
              "      <td>25000000.0</td>\n",
              "    </tr>\n",
              "    <tr>\n",
              "      <th>1028</th>\n",
              "      <td>Wings</td>\n",
              "      <td>NaN</td>\n",
              "      <td>2000000.0</td>\n",
              "    </tr>\n",
              "  </tbody>\n",
              "</table>\n",
              "<p>3201 rows × 3 columns</p>\n",
              "</div>"
            ],
            "text/plain": [
              "                                              Title  Worldwide Gross  \\\n",
              "1234                                         Avatar     2.767891e+09   \n",
              "2970                                        Titanic     1.842880e+09   \n",
              "2202  The Lord of the Rings: The Return of the King     1.133027e+09   \n",
              "2507     Pirates of the Caribbean: Dead Man's Chest     1.065660e+09   \n",
              "2987                                    Toy Story 3     1.046341e+09   \n",
              "...                                             ...              ...   \n",
              "266                                 Death Race 2000              NaN   \n",
              "404                                   Hell's Angels              NaN   \n",
              "467                                     Intolerance              NaN   \n",
              "1025                                       Waterloo              NaN   \n",
              "1028                                          Wings              NaN   \n",
              "\n",
              "      Production Budget  \n",
              "1234        237000000.0  \n",
              "2970        200000000.0  \n",
              "2202         94000000.0  \n",
              "2507        225000000.0  \n",
              "2987        200000000.0  \n",
              "...                 ...  \n",
              "266            300000.0  \n",
              "404           4000000.0  \n",
              "467            385907.0  \n",
              "1025         25000000.0  \n",
              "1028          2000000.0  \n",
              "\n",
              "[3201 rows x 3 columns]"
            ]
          },
          "execution_count": 30,
          "metadata": {},
          "output_type": "execute_result"
        }
      ],
      "source": [
        "df_arrec.sort_values('Worldwide Gross', ascending= False)"
      ]
    },
    {
      "cell_type": "code",
      "execution_count": 31,
      "metadata": {},
      "outputs": [
        {
          "name": "stderr",
          "output_type": "stream",
          "text": [
            "C:\\Users\\nield\\AppData\\Local\\Temp\\ipykernel_4896\\2937832258.py:1: SettingWithCopyWarning: \n",
            "A value is trying to be set on a copy of a slice from a DataFrame.\n",
            "Try using .loc[row_indexer,col_indexer] = value instead\n",
            "\n",
            "See the caveats in the documentation: https://pandas.pydata.org/pandas-docs/stable/user_guide/indexing.html#returning-a-view-versus-a-copy\n",
            "  df_arrec['Profit'] = df_arrec['Worldwide Gross']/df_arrec['Production Budget']\n"
          ]
        }
      ],
      "source": [
        "df_arrec['Profit'] = df_arrec['Worldwide Gross']/df_arrec['Production Budget']"
      ]
    },
    {
      "cell_type": "code",
      "execution_count": 32,
      "metadata": {},
      "outputs": [
        {
          "data": {
            "text/html": [
              "<div>\n",
              "<style scoped>\n",
              "    .dataframe tbody tr th:only-of-type {\n",
              "        vertical-align: middle;\n",
              "    }\n",
              "\n",
              "    .dataframe tbody tr th {\n",
              "        vertical-align: top;\n",
              "    }\n",
              "\n",
              "    .dataframe thead th {\n",
              "        text-align: right;\n",
              "    }\n",
              "</style>\n",
              "<table border=\"1\" class=\"dataframe\">\n",
              "  <thead>\n",
              "    <tr style=\"text-align: right;\">\n",
              "      <th></th>\n",
              "      <th>Title</th>\n",
              "      <th>Worldwide Gross</th>\n",
              "      <th>Production Budget</th>\n",
              "      <th>Profit</th>\n",
              "    </tr>\n",
              "  </thead>\n",
              "  <tbody>\n",
              "    <tr>\n",
              "      <th>2526</th>\n",
              "      <td>Paranormal Activity</td>\n",
              "      <td>193770453.0</td>\n",
              "      <td>15000.0</td>\n",
              "      <td>12918.030200</td>\n",
              "    </tr>\n",
              "    <tr>\n",
              "      <th>2920</th>\n",
              "      <td>Tarnation</td>\n",
              "      <td>1162014.0</td>\n",
              "      <td>218.0</td>\n",
              "      <td>5330.339450</td>\n",
              "    </tr>\n",
              "    <tr>\n",
              "      <th>244</th>\n",
              "      <td>Deep Throat</td>\n",
              "      <td>45000000.0</td>\n",
              "      <td>25000.0</td>\n",
              "      <td>1800.000000</td>\n",
              "    </tr>\n",
              "    <tr>\n",
              "      <th>603</th>\n",
              "      <td>Mad Max</td>\n",
              "      <td>99750000.0</td>\n",
              "      <td>200000.0</td>\n",
              "      <td>498.750000</td>\n",
              "    </tr>\n",
              "    <tr>\n",
              "      <th>2758</th>\n",
              "      <td>Super Size Me</td>\n",
              "      <td>29529368.0</td>\n",
              "      <td>65000.0</td>\n",
              "      <td>454.297969</td>\n",
              "    </tr>\n",
              "    <tr>\n",
              "      <th>132</th>\n",
              "      <td>The Brothers McMullen</td>\n",
              "      <td>10426506.0</td>\n",
              "      <td>25000.0</td>\n",
              "      <td>417.060240</td>\n",
              "    </tr>\n",
              "    <tr>\n",
              "      <th>1318</th>\n",
              "      <td>The Blair Witch Project</td>\n",
              "      <td>248300000.0</td>\n",
              "      <td>600000.0</td>\n",
              "      <td>413.833333</td>\n",
              "    </tr>\n",
              "    <tr>\n",
              "      <th>531</th>\n",
              "      <td>El Mariachi</td>\n",
              "      <td>2040920.0</td>\n",
              "      <td>7000.0</td>\n",
              "      <td>291.560000</td>\n",
              "    </tr>\n",
              "    <tr>\n",
              "      <th>651</th>\n",
              "      <td>Night of the Living Dead</td>\n",
              "      <td>30000000.0</td>\n",
              "      <td>114000.0</td>\n",
              "      <td>263.157895</td>\n",
              "    </tr>\n",
              "    <tr>\n",
              "      <th>781</th>\n",
              "      <td>Rocky</td>\n",
              "      <td>225000000.0</td>\n",
              "      <td>1000000.0</td>\n",
              "      <td>225.000000</td>\n",
              "    </tr>\n",
              "  </tbody>\n",
              "</table>\n",
              "</div>"
            ],
            "text/plain": [
              "                         Title  Worldwide Gross  Production Budget  \\\n",
              "2526       Paranormal Activity      193770453.0            15000.0   \n",
              "2920                 Tarnation        1162014.0              218.0   \n",
              "244                Deep Throat       45000000.0            25000.0   \n",
              "603                    Mad Max       99750000.0           200000.0   \n",
              "2758             Super Size Me       29529368.0            65000.0   \n",
              "132      The Brothers McMullen       10426506.0            25000.0   \n",
              "1318   The Blair Witch Project      248300000.0           600000.0   \n",
              "531                El Mariachi        2040920.0             7000.0   \n",
              "651   Night of the Living Dead       30000000.0           114000.0   \n",
              "781                      Rocky      225000000.0          1000000.0   \n",
              "\n",
              "            Profit  \n",
              "2526  12918.030200  \n",
              "2920   5330.339450  \n",
              "244    1800.000000  \n",
              "603     498.750000  \n",
              "2758    454.297969  \n",
              "132     417.060240  \n",
              "1318    413.833333  \n",
              "531     291.560000  \n",
              "651     263.157895  \n",
              "781     225.000000  "
            ]
          },
          "execution_count": 32,
          "metadata": {},
          "output_type": "execute_result"
        }
      ],
      "source": [
        "df_arrec.sort_values('Profit', ascending= False).head(10)"
      ]
    },
    {
      "cell_type": "code",
      "execution_count": null,
      "metadata": {},
      "outputs": [],
      "source": []
    }
  ],
  "metadata": {
    "colab": {
      "provenance": []
    },
    "kernelspec": {
      "display_name": "Python 3.9.12 ('base')",
      "language": "python",
      "name": "python3"
    },
    "language_info": {
      "codemirror_mode": {
        "name": "ipython",
        "version": 3
      },
      "file_extension": ".py",
      "mimetype": "text/x-python",
      "name": "python",
      "nbconvert_exporter": "python",
      "pygments_lexer": "ipython3",
      "version": "3.9.12"
    },
    "vscode": {
      "interpreter": {
        "hash": "3a0de9df006df342b5e4296aedaeaf87f8585c794651fec65fd5881a82402807"
      }
    }
  },
  "nbformat": 4,
  "nbformat_minor": 0
}
